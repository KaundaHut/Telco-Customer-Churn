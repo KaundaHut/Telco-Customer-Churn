{
 "cells": [
  {
   "cell_type": "markdown",
   "id": "3b959ab8",
   "metadata": {},
   "source": [
    "### Tasks/Activities List\n",
    "Your code should contain the following activities and analyses:\n",
    "- Collect the data from the zip file linked here.\n",
    "- Split the dataset into dependent and independent variables.\n",
    "- Perform train, test split.\n",
    "- Apply StandardScaler() to the train and test dependent variable.\n",
    "- Fit the best parameters.\n",
    "- Model Prediction\n",
    "- Model Validation Statistics\n",
    "- Create a FastAPI app\n",
    "- Create routes for getting predictions\n",
    "- Create a route for retraining the model\n"
   ]
  },
  {
   "cell_type": "code",
   "execution_count": 1,
   "id": "c3275cb5",
   "metadata": {
    "id": "UIGzenY28LVh"
   },
   "outputs": [
    {
     "name": "stdout",
     "output_type": "stream",
     "text": [
      "All libraries sucessfully loaded \n"
     ]
    }
   ],
   "source": [
    "import pandas as pd \n",
    "from sklearn import metrics\n",
    "from sklearn.model_selection import train_test_split\n",
    "from sklearn.metrics import classification_report,accuracy_score,f1_score,recall_score, roc_auc_score\n",
    "from sklearn.metrics import confusion_matrix\n",
    "from sklearn.linear_model  import  LogisticRegression\n",
    "from sklearn.ensemble import RandomForestClassifier\n",
    "from sklearn.naive_bayes import GaussianNB\n",
    "from sklearn.svm import SVC\n",
    "from sklearn.preprocessing import StandardScaler\n",
    "from sklearn.pipeline import make_pipeline\n",
    "from imblearn.over_sampling import SMOTE\n",
    "from imblearn.combine import SMOTEENN\n",
    "from sklearn.model_selection import GridSearchCV,RandomizedSearchCV\n",
    "from sklearn.metrics import roc_curve\n",
    "from sklearn.model_selection import cross_val_predict\n",
    "import os\n",
    "# pipelines\n",
    "from sklearn.compose import make_column_transformer\n",
    "from sklearn.pipeline import Pipeline, make_pipeline\n",
    "import warnings\n",
    "warnings.filterwarnings(\"ignore\")\n",
    "print(\"All libraries sucessfully loaded \")"
   ]
  },
  {
   "cell_type": "code",
   "execution_count": 2,
   "id": "d043f327",
   "metadata": {},
   "outputs": [
    {
     "data": {
      "text/html": [
       "<div>\n",
       "<style scoped>\n",
       "    .dataframe tbody tr th:only-of-type {\n",
       "        vertical-align: middle;\n",
       "    }\n",
       "\n",
       "    .dataframe tbody tr th {\n",
       "        vertical-align: top;\n",
       "    }\n",
       "\n",
       "    .dataframe thead th {\n",
       "        text-align: right;\n",
       "    }\n",
       "</style>\n",
       "<table border=\"1\" class=\"dataframe\">\n",
       "  <thead>\n",
       "    <tr style=\"text-align: right;\">\n",
       "      <th></th>\n",
       "      <th>Unnamed: 0</th>\n",
       "      <th>address</th>\n",
       "      <th>income</th>\n",
       "      <th>employ</th>\n",
       "      <th>reside</th>\n",
       "      <th>longmon</th>\n",
       "      <th>tollmon</th>\n",
       "      <th>equipmon</th>\n",
       "      <th>cardmon</th>\n",
       "      <th>wiremon</th>\n",
       "      <th>...</th>\n",
       "      <th>custcat_Plus service</th>\n",
       "      <th>custcat_Total service</th>\n",
       "      <th>tenure_group_1 - 12</th>\n",
       "      <th>tenure_group_13 - 24</th>\n",
       "      <th>tenure_group_25 - 36</th>\n",
       "      <th>tenure_group_37 - 48</th>\n",
       "      <th>tenure_group_49 - 60</th>\n",
       "      <th>tenure_group_61 - 72</th>\n",
       "      <th>AgeGroup_Junior</th>\n",
       "      <th>AgeGroup_Senior</th>\n",
       "    </tr>\n",
       "  </thead>\n",
       "  <tbody>\n",
       "    <tr>\n",
       "      <th>0</th>\n",
       "      <td>0</td>\n",
       "      <td>9</td>\n",
       "      <td>64</td>\n",
       "      <td>5</td>\n",
       "      <td>2</td>\n",
       "      <td>3.70</td>\n",
       "      <td>0.00</td>\n",
       "      <td>0.0</td>\n",
       "      <td>7.50</td>\n",
       "      <td>0.0</td>\n",
       "      <td>...</td>\n",
       "      <td>0</td>\n",
       "      <td>0</td>\n",
       "      <td>0</td>\n",
       "      <td>1</td>\n",
       "      <td>0</td>\n",
       "      <td>0</td>\n",
       "      <td>0</td>\n",
       "      <td>0</td>\n",
       "      <td>1</td>\n",
       "      <td>0</td>\n",
       "    </tr>\n",
       "    <tr>\n",
       "      <th>1</th>\n",
       "      <td>1</td>\n",
       "      <td>7</td>\n",
       "      <td>136</td>\n",
       "      <td>5</td>\n",
       "      <td>6</td>\n",
       "      <td>4.40</td>\n",
       "      <td>20.75</td>\n",
       "      <td>0.0</td>\n",
       "      <td>15.25</td>\n",
       "      <td>35.7</td>\n",
       "      <td>...</td>\n",
       "      <td>0</td>\n",
       "      <td>1</td>\n",
       "      <td>1</td>\n",
       "      <td>0</td>\n",
       "      <td>0</td>\n",
       "      <td>0</td>\n",
       "      <td>0</td>\n",
       "      <td>0</td>\n",
       "      <td>1</td>\n",
       "      <td>0</td>\n",
       "    </tr>\n",
       "    <tr>\n",
       "      <th>2</th>\n",
       "      <td>2</td>\n",
       "      <td>24</td>\n",
       "      <td>116</td>\n",
       "      <td>29</td>\n",
       "      <td>2</td>\n",
       "      <td>18.15</td>\n",
       "      <td>18.00</td>\n",
       "      <td>0.0</td>\n",
       "      <td>30.25</td>\n",
       "      <td>0.0</td>\n",
       "      <td>...</td>\n",
       "      <td>1</td>\n",
       "      <td>0</td>\n",
       "      <td>0</td>\n",
       "      <td>0</td>\n",
       "      <td>0</td>\n",
       "      <td>0</td>\n",
       "      <td>0</td>\n",
       "      <td>1</td>\n",
       "      <td>1</td>\n",
       "      <td>0</td>\n",
       "    </tr>\n",
       "    <tr>\n",
       "      <th>3</th>\n",
       "      <td>3</td>\n",
       "      <td>12</td>\n",
       "      <td>33</td>\n",
       "      <td>0</td>\n",
       "      <td>1</td>\n",
       "      <td>9.45</td>\n",
       "      <td>0.00</td>\n",
       "      <td>0.0</td>\n",
       "      <td>0.00</td>\n",
       "      <td>0.0</td>\n",
       "      <td>...</td>\n",
       "      <td>0</td>\n",
       "      <td>0</td>\n",
       "      <td>0</td>\n",
       "      <td>0</td>\n",
       "      <td>1</td>\n",
       "      <td>0</td>\n",
       "      <td>0</td>\n",
       "      <td>0</td>\n",
       "      <td>1</td>\n",
       "      <td>0</td>\n",
       "    </tr>\n",
       "    <tr>\n",
       "      <th>4</th>\n",
       "      <td>4</td>\n",
       "      <td>9</td>\n",
       "      <td>30</td>\n",
       "      <td>2</td>\n",
       "      <td>4</td>\n",
       "      <td>6.30</td>\n",
       "      <td>0.00</td>\n",
       "      <td>0.0</td>\n",
       "      <td>0.00</td>\n",
       "      <td>0.0</td>\n",
       "      <td>...</td>\n",
       "      <td>1</td>\n",
       "      <td>0</td>\n",
       "      <td>0</td>\n",
       "      <td>1</td>\n",
       "      <td>0</td>\n",
       "      <td>0</td>\n",
       "      <td>0</td>\n",
       "      <td>0</td>\n",
       "      <td>1</td>\n",
       "      <td>0</td>\n",
       "    </tr>\n",
       "  </tbody>\n",
       "</table>\n",
       "<p>5 rows × 70 columns</p>\n",
       "</div>"
      ],
      "text/plain": [
       "   Unnamed: 0  address  income  employ  reside  longmon  tollmon  equipmon  \\\n",
       "0           0        9      64       5       2     3.70     0.00       0.0   \n",
       "1           1        7     136       5       6     4.40    20.75       0.0   \n",
       "2           2       24     116      29       2    18.15    18.00       0.0   \n",
       "3           3       12      33       0       1     9.45     0.00       0.0   \n",
       "4           4        9      30       2       4     6.30     0.00       0.0   \n",
       "\n",
       "   cardmon  wiremon  ...  custcat_Plus service  custcat_Total service  \\\n",
       "0     7.50      0.0  ...                     0                      0   \n",
       "1    15.25     35.7  ...                     0                      1   \n",
       "2    30.25      0.0  ...                     1                      0   \n",
       "3     0.00      0.0  ...                     0                      0   \n",
       "4     0.00      0.0  ...                     1                      0   \n",
       "\n",
       "   tenure_group_1 - 12  tenure_group_13 - 24  tenure_group_25 - 36  \\\n",
       "0                    0                     1                     0   \n",
       "1                    1                     0                     0   \n",
       "2                    0                     0                     0   \n",
       "3                    0                     0                     1   \n",
       "4                    0                     1                     0   \n",
       "\n",
       "   tenure_group_37 - 48  tenure_group_49 - 60  tenure_group_61 - 72  \\\n",
       "0                     0                     0                     0   \n",
       "1                     0                     0                     0   \n",
       "2                     0                     0                     1   \n",
       "3                     0                     0                     0   \n",
       "4                     0                     0                     0   \n",
       "\n",
       "   AgeGroup_Junior  AgeGroup_Senior  \n",
       "0                1                0  \n",
       "1                1                0  \n",
       "2                1                0  \n",
       "3                1                0  \n",
       "4                1                0  \n",
       "\n",
       "[5 rows x 70 columns]"
      ]
     },
     "execution_count": 2,
     "metadata": {},
     "output_type": "execute_result"
    }
   ],
   "source": [
    "df=pd.read_csv(\"tel_churn.csv\")\n",
    "df.head()"
   ]
  },
  {
   "cell_type": "code",
   "execution_count": 3,
   "id": "1926699e",
   "metadata": {},
   "outputs": [],
   "source": [
    "df=df.drop('Unnamed: 0',axis=1)"
   ]
  },
  {
   "cell_type": "code",
   "execution_count": 4,
   "id": "e5623f42",
   "metadata": {},
   "outputs": [],
   "source": [
    "# Splitting the independent and dependent variables\n",
    "\n",
    "x = df.drop('churn', axis=1)# feature\n",
    "y = df['churn'] # target "
   ]
  },
  {
   "cell_type": "code",
   "execution_count": 33,
   "id": "8c18ffc8",
   "metadata": {},
   "outputs": [
    {
     "data": {
      "text/plain": [
       "address                   int64\n",
       "income                    int64\n",
       "employ                    int64\n",
       "reside                    int64\n",
       "longmon                 float64\n",
       "                         ...   \n",
       "tenure_group_37 - 48      int64\n",
       "tenure_group_49 - 60      int64\n",
       "tenure_group_61 - 72      int64\n",
       "AgeGroup_Junior           int64\n",
       "AgeGroup_Senior           int64\n",
       "Length: 68, dtype: object"
      ]
     },
     "execution_count": 33,
     "metadata": {},
     "output_type": "execute_result"
    }
   ],
   "source": [
    "x.dtypes"
   ]
  },
  {
   "cell_type": "code",
   "execution_count": 5,
   "id": "ac126994",
   "metadata": {},
   "outputs": [],
   "source": [
    "## We are using standard scaler as Variables that are measured at different scales do not contribute equally to \n",
    "#the model fitting & model learned function and might end up creating a bias.\n",
    "scaler = StandardScaler()\n",
    "X_scaled = scaler.fit_transform(x)\n",
    "X_train, X_test, Y_train, y_test = train_test_split(X_scaled, y,stratify=y, test_size=0.2,random_state=1)\n"
   ]
  },
  {
   "cell_type": "code",
   "execution_count": 6,
   "id": "c677dec8",
   "metadata": {},
   "outputs": [
    {
     "data": {
      "text/html": [
       "<style>#sk-container-id-1 {color: black;background-color: white;}#sk-container-id-1 pre{padding: 0;}#sk-container-id-1 div.sk-toggleable {background-color: white;}#sk-container-id-1 label.sk-toggleable__label {cursor: pointer;display: block;width: 100%;margin-bottom: 0;padding: 0.3em;box-sizing: border-box;text-align: center;}#sk-container-id-1 label.sk-toggleable__label-arrow:before {content: \"▸\";float: left;margin-right: 0.25em;color: #696969;}#sk-container-id-1 label.sk-toggleable__label-arrow:hover:before {color: black;}#sk-container-id-1 div.sk-estimator:hover label.sk-toggleable__label-arrow:before {color: black;}#sk-container-id-1 div.sk-toggleable__content {max-height: 0;max-width: 0;overflow: hidden;text-align: left;background-color: #f0f8ff;}#sk-container-id-1 div.sk-toggleable__content pre {margin: 0.2em;color: black;border-radius: 0.25em;background-color: #f0f8ff;}#sk-container-id-1 input.sk-toggleable__control:checked~div.sk-toggleable__content {max-height: 200px;max-width: 100%;overflow: auto;}#sk-container-id-1 input.sk-toggleable__control:checked~label.sk-toggleable__label-arrow:before {content: \"▾\";}#sk-container-id-1 div.sk-estimator input.sk-toggleable__control:checked~label.sk-toggleable__label {background-color: #d4ebff;}#sk-container-id-1 div.sk-label input.sk-toggleable__control:checked~label.sk-toggleable__label {background-color: #d4ebff;}#sk-container-id-1 input.sk-hidden--visually {border: 0;clip: rect(1px 1px 1px 1px);clip: rect(1px, 1px, 1px, 1px);height: 1px;margin: -1px;overflow: hidden;padding: 0;position: absolute;width: 1px;}#sk-container-id-1 div.sk-estimator {font-family: monospace;background-color: #f0f8ff;border: 1px dotted black;border-radius: 0.25em;box-sizing: border-box;margin-bottom: 0.5em;}#sk-container-id-1 div.sk-estimator:hover {background-color: #d4ebff;}#sk-container-id-1 div.sk-parallel-item::after {content: \"\";width: 100%;border-bottom: 1px solid gray;flex-grow: 1;}#sk-container-id-1 div.sk-label:hover label.sk-toggleable__label {background-color: #d4ebff;}#sk-container-id-1 div.sk-serial::before {content: \"\";position: absolute;border-left: 1px solid gray;box-sizing: border-box;top: 0;bottom: 0;left: 50%;z-index: 0;}#sk-container-id-1 div.sk-serial {display: flex;flex-direction: column;align-items: center;background-color: white;padding-right: 0.2em;padding-left: 0.2em;position: relative;}#sk-container-id-1 div.sk-item {position: relative;z-index: 1;}#sk-container-id-1 div.sk-parallel {display: flex;align-items: stretch;justify-content: center;background-color: white;position: relative;}#sk-container-id-1 div.sk-item::before, #sk-container-id-1 div.sk-parallel-item::before {content: \"\";position: absolute;border-left: 1px solid gray;box-sizing: border-box;top: 0;bottom: 0;left: 50%;z-index: -1;}#sk-container-id-1 div.sk-parallel-item {display: flex;flex-direction: column;z-index: 1;position: relative;background-color: white;}#sk-container-id-1 div.sk-parallel-item:first-child::after {align-self: flex-end;width: 50%;}#sk-container-id-1 div.sk-parallel-item:last-child::after {align-self: flex-start;width: 50%;}#sk-container-id-1 div.sk-parallel-item:only-child::after {width: 0;}#sk-container-id-1 div.sk-dashed-wrapped {border: 1px dashed gray;margin: 0 0.4em 0.5em 0.4em;box-sizing: border-box;padding-bottom: 0.4em;background-color: white;}#sk-container-id-1 div.sk-label label {font-family: monospace;font-weight: bold;display: inline-block;line-height: 1.2em;}#sk-container-id-1 div.sk-label-container {text-align: center;}#sk-container-id-1 div.sk-container {/* jupyter's `normalize.less` sets `[hidden] { display: none; }` but bootstrap.min.css set `[hidden] { display: none !important; }` so we also need the `!important` here to be able to override the default hidden behavior on the sphinx rendered scikit-learn.org. See: https://github.com/scikit-learn/scikit-learn/issues/21755 */display: inline-block !important;position: relative;}#sk-container-id-1 div.sk-text-repr-fallback {display: none;}</style><div id=\"sk-container-id-1\" class=\"sk-top-container\"><div class=\"sk-text-repr-fallback\"><pre>LogisticRegression()</pre><b>In a Jupyter environment, please rerun this cell to show the HTML representation or trust the notebook. <br />On GitHub, the HTML representation is unable to render, please try loading this page with nbviewer.org.</b></div><div class=\"sk-container\" hidden><div class=\"sk-item\"><div class=\"sk-estimator sk-toggleable\"><input class=\"sk-toggleable__control sk-hidden--visually\" id=\"sk-estimator-id-1\" type=\"checkbox\" checked><label for=\"sk-estimator-id-1\" class=\"sk-toggleable__label sk-toggleable__label-arrow\">LogisticRegression</label><div class=\"sk-toggleable__content\"><pre>LogisticRegression()</pre></div></div></div></div></div>"
      ],
      "text/plain": [
       "LogisticRegression()"
      ]
     },
     "execution_count": 6,
     "metadata": {},
     "output_type": "execute_result"
    }
   ],
   "source": [
    "## Logistic Regression \n",
    "log_reg = LogisticRegression()\n",
    "\n",
    "log_reg.fit(X_train,Y_train)"
   ]
  },
  {
   "cell_type": "code",
   "execution_count": 7,
   "id": "a01336de",
   "metadata": {},
   "outputs": [
    {
     "name": "stdout",
     "output_type": "stream",
     "text": [
      "Training report\n",
      "              precision    recall  f1-score   support\n",
      "\n",
      "           0       0.82      0.91      0.86       581\n",
      "           1       0.66      0.47      0.55       219\n",
      "\n",
      "    accuracy                           0.79       800\n",
      "   macro avg       0.74      0.69      0.70       800\n",
      "weighted avg       0.78      0.79      0.78       800\n",
      "\n",
      "Testing report\n",
      "              precision    recall  f1-score   support\n",
      "\n",
      "           0       0.83      0.90      0.87       145\n",
      "           1       0.67      0.53      0.59        55\n",
      "\n",
      "    accuracy                           0.80       200\n",
      "   macro avg       0.75      0.72      0.73       200\n",
      "weighted avg       0.79      0.80      0.79       200\n",
      "\n",
      "Test Score:  0.8\n"
     ]
    }
   ],
   "source": [
    "## Creating function that will evaluate model. \n",
    "## It will help us to reduced the code size and increase reusability of code\n",
    "\n",
    "def evaluate_model(model,x_train,y_train,x_test,y_test,fit=False):\n",
    "    '''\n",
    "    Model Evaluation for Classifier\n",
    "    :param  model : model object \n",
    "    :param x_train: Train features\n",
    "    :param y_train: Train Target \n",
    "    :param x_test: Test features\n",
    "    :param y_test: Test Target \n",
    "    :param fit bool : True if model is already fited else false\n",
    "\n",
    "    :return: Train and Test Classification report and AUC- ROC Graph\n",
    "    '''\n",
    "    if fit == False:\n",
    "        model.fit(x_train,y_train)\n",
    "    train_pred=model.predict(x_train)\n",
    "    print(\"Training report\")\n",
    "    print(classification_report(y_train, train_pred))    \n",
    "    \n",
    "    print(\"Testing report\")\n",
    "    test_pred=model.predict(x_test)    \n",
    "    print(classification_report(y_test, test_pred))\n",
    "\n",
    "# evaluating the model \n",
    "evaluate_model(log_reg,X_train,Y_train,X_test,y_test,fit=True)\n",
    "\n",
    "model_score_log_reg= log_reg.score(X_test, y_test)\n",
    "print('Test Score: ',model_score_log_reg)"
   ]
  },
  {
   "cell_type": "markdown",
   "id": "efa2d2a7",
   "metadata": {},
   "source": [
    "\n",
    "- we need to check recall, precision & f1 score for the minority class, and it's quite evident that the precision, recall & f1 score is too low for Class 1, i.e. churned customers.\n"
   ]
  },
  {
   "cell_type": "code",
   "execution_count": 8,
   "id": "29d17b28",
   "metadata": {},
   "outputs": [
    {
     "name": "stdout",
     "output_type": "stream",
     "text": [
      "Training data size\n",
      "(1162, 68)\n",
      "0    581\n",
      "1    581\n",
      "Name: churn, dtype: int64\n",
      "Training report\n",
      "              precision    recall  f1-score   support\n",
      "\n",
      "           0       0.78      0.75      0.77       581\n",
      "           1       0.76      0.79      0.78       581\n",
      "\n",
      "    accuracy                           0.77      1162\n",
      "   macro avg       0.77      0.77      0.77      1162\n",
      "weighted avg       0.77      0.77      0.77      1162\n",
      "\n",
      "Testing report\n",
      "              precision    recall  f1-score   support\n",
      "\n",
      "           0       0.90      0.72      0.80       145\n",
      "           1       0.51      0.78      0.62        55\n",
      "\n",
      "    accuracy                           0.73       200\n",
      "   macro avg       0.70      0.75      0.71       200\n",
      "weighted avg       0.79      0.73      0.75       200\n",
      "\n",
      "Test Score:  0.735\n"
     ]
    }
   ],
   "source": [
    "##Base model on SMOTE :\n",
    "## Using SMOTE To balance Training dataset \n",
    "# transform the dataset\n",
    "\n",
    "oversample = SMOTE()\n",
    "x_train, y_train = oversample.fit_resample(X_train, Y_train)\n",
    "\n",
    "log_reg_smote = LogisticRegression()\n",
    "\n",
    "log_reg_smote.fit(x_train,y_train)\n",
    "\n",
    "print(\"Training data size\")\n",
    "print(x_train.shape)\n",
    "print(y_train.value_counts())\n",
    "evaluate_model(log_reg_smote,x_train,y_train,X_test,y_test,fit=True)\n",
    "\n",
    "model_score_log_reg_smote= log_reg_smote.score(X_test, y_test)\n",
    "print('Test Score: ',model_score_log_reg_smote)"
   ]
  },
  {
   "cell_type": "code",
   "execution_count": 9,
   "id": "dcb19455",
   "metadata": {},
   "outputs": [],
   "source": [
    "# %\n",
    "#applying smoteenn to balance our data set \n",
    "sm = SMOTEENN()\n",
    "X_resampled, y_resampled = sm.fit_resample(x,y)\n",
    "\n",
    "xr_train,xr_test,yr_train,yr_test=train_test_split(X_resampled, y_resampled,test_size=0.2)"
   ]
  },
  {
   "cell_type": "code",
   "execution_count": 10,
   "id": "704b8ac2",
   "metadata": {},
   "outputs": [
    {
     "name": "stdout",
     "output_type": "stream",
     "text": [
      "Training report\n",
      "              precision    recall  f1-score   support\n",
      "\n",
      "           0       0.89      0.88      0.88       273\n",
      "           1       0.90      0.91      0.91       342\n",
      "\n",
      "    accuracy                           0.90       615\n",
      "   macro avg       0.90      0.89      0.89       615\n",
      "weighted avg       0.90      0.90      0.90       615\n",
      "\n",
      "Testing report\n",
      "              precision    recall  f1-score   support\n",
      "\n",
      "           0       0.90      0.86      0.88        70\n",
      "           1       0.89      0.92      0.90        84\n",
      "\n",
      "    accuracy                           0.89       154\n",
      "   macro avg       0.89      0.89      0.89       154\n",
      "weighted avg       0.89      0.89      0.89       154\n",
      "\n",
      "Test Score : 0.8896103896103896\n"
     ]
    }
   ],
   "source": [
    "#logistic regression with smoteenn\n",
    "model_LR_smoteen=LogisticRegression()\n",
    "\n",
    "model_LR_smoteen.fit(xr_train,yr_train)\n",
    "model1_score_r = model_LR_smoteen.score(xr_test, yr_test)\n",
    "\n",
    "evaluate_model(model_LR_smoteen,xr_train,yr_train,xr_test,yr_test,fit=True)\n",
    "print('Test Score :',model1_score_r)\n"
   ]
  },
  {
   "cell_type": "code",
   "execution_count": null,
   "id": "8d4696c1",
   "metadata": {},
   "outputs": [],
   "source": []
  },
  {
   "cell_type": "code",
   "execution_count": 11,
   "id": "422f36af",
   "metadata": {},
   "outputs": [
    {
     "data": {
      "text/html": [
       "<style>#sk-container-id-2 {color: black;background-color: white;}#sk-container-id-2 pre{padding: 0;}#sk-container-id-2 div.sk-toggleable {background-color: white;}#sk-container-id-2 label.sk-toggleable__label {cursor: pointer;display: block;width: 100%;margin-bottom: 0;padding: 0.3em;box-sizing: border-box;text-align: center;}#sk-container-id-2 label.sk-toggleable__label-arrow:before {content: \"▸\";float: left;margin-right: 0.25em;color: #696969;}#sk-container-id-2 label.sk-toggleable__label-arrow:hover:before {color: black;}#sk-container-id-2 div.sk-estimator:hover label.sk-toggleable__label-arrow:before {color: black;}#sk-container-id-2 div.sk-toggleable__content {max-height: 0;max-width: 0;overflow: hidden;text-align: left;background-color: #f0f8ff;}#sk-container-id-2 div.sk-toggleable__content pre {margin: 0.2em;color: black;border-radius: 0.25em;background-color: #f0f8ff;}#sk-container-id-2 input.sk-toggleable__control:checked~div.sk-toggleable__content {max-height: 200px;max-width: 100%;overflow: auto;}#sk-container-id-2 input.sk-toggleable__control:checked~label.sk-toggleable__label-arrow:before {content: \"▾\";}#sk-container-id-2 div.sk-estimator input.sk-toggleable__control:checked~label.sk-toggleable__label {background-color: #d4ebff;}#sk-container-id-2 div.sk-label input.sk-toggleable__control:checked~label.sk-toggleable__label {background-color: #d4ebff;}#sk-container-id-2 input.sk-hidden--visually {border: 0;clip: rect(1px 1px 1px 1px);clip: rect(1px, 1px, 1px, 1px);height: 1px;margin: -1px;overflow: hidden;padding: 0;position: absolute;width: 1px;}#sk-container-id-2 div.sk-estimator {font-family: monospace;background-color: #f0f8ff;border: 1px dotted black;border-radius: 0.25em;box-sizing: border-box;margin-bottom: 0.5em;}#sk-container-id-2 div.sk-estimator:hover {background-color: #d4ebff;}#sk-container-id-2 div.sk-parallel-item::after {content: \"\";width: 100%;border-bottom: 1px solid gray;flex-grow: 1;}#sk-container-id-2 div.sk-label:hover label.sk-toggleable__label {background-color: #d4ebff;}#sk-container-id-2 div.sk-serial::before {content: \"\";position: absolute;border-left: 1px solid gray;box-sizing: border-box;top: 0;bottom: 0;left: 50%;z-index: 0;}#sk-container-id-2 div.sk-serial {display: flex;flex-direction: column;align-items: center;background-color: white;padding-right: 0.2em;padding-left: 0.2em;position: relative;}#sk-container-id-2 div.sk-item {position: relative;z-index: 1;}#sk-container-id-2 div.sk-parallel {display: flex;align-items: stretch;justify-content: center;background-color: white;position: relative;}#sk-container-id-2 div.sk-item::before, #sk-container-id-2 div.sk-parallel-item::before {content: \"\";position: absolute;border-left: 1px solid gray;box-sizing: border-box;top: 0;bottom: 0;left: 50%;z-index: -1;}#sk-container-id-2 div.sk-parallel-item {display: flex;flex-direction: column;z-index: 1;position: relative;background-color: white;}#sk-container-id-2 div.sk-parallel-item:first-child::after {align-self: flex-end;width: 50%;}#sk-container-id-2 div.sk-parallel-item:last-child::after {align-self: flex-start;width: 50%;}#sk-container-id-2 div.sk-parallel-item:only-child::after {width: 0;}#sk-container-id-2 div.sk-dashed-wrapped {border: 1px dashed gray;margin: 0 0.4em 0.5em 0.4em;box-sizing: border-box;padding-bottom: 0.4em;background-color: white;}#sk-container-id-2 div.sk-label label {font-family: monospace;font-weight: bold;display: inline-block;line-height: 1.2em;}#sk-container-id-2 div.sk-label-container {text-align: center;}#sk-container-id-2 div.sk-container {/* jupyter's `normalize.less` sets `[hidden] { display: none; }` but bootstrap.min.css set `[hidden] { display: none !important; }` so we also need the `!important` here to be able to override the default hidden behavior on the sphinx rendered scikit-learn.org. See: https://github.com/scikit-learn/scikit-learn/issues/21755 */display: inline-block !important;position: relative;}#sk-container-id-2 div.sk-text-repr-fallback {display: none;}</style><div id=\"sk-container-id-2\" class=\"sk-top-container\"><div class=\"sk-text-repr-fallback\"><pre>SVC()</pre><b>In a Jupyter environment, please rerun this cell to show the HTML representation or trust the notebook. <br />On GitHub, the HTML representation is unable to render, please try loading this page with nbviewer.org.</b></div><div class=\"sk-container\" hidden><div class=\"sk-item\"><div class=\"sk-estimator sk-toggleable\"><input class=\"sk-toggleable__control sk-hidden--visually\" id=\"sk-estimator-id-2\" type=\"checkbox\" checked><label for=\"sk-estimator-id-2\" class=\"sk-toggleable__label sk-toggleable__label-arrow\">SVC</label><div class=\"sk-toggleable__content\"><pre>SVC()</pre></div></div></div></div></div>"
      ],
      "text/plain": [
       "SVC()"
      ]
     },
     "execution_count": 11,
     "metadata": {},
     "output_type": "execute_result"
    }
   ],
   "source": [
    "#Support Vector Machine \n",
    "svm=SVC()\n",
    "svm.fit(X_train,Y_train)"
   ]
  },
  {
   "cell_type": "code",
   "execution_count": 12,
   "id": "244fe600",
   "metadata": {},
   "outputs": [
    {
     "name": "stdout",
     "output_type": "stream",
     "text": [
      "Training report\n",
      "              precision    recall  f1-score   support\n",
      "\n",
      "           0       0.83      0.97      0.90       581\n",
      "           1       0.88      0.49      0.63       219\n",
      "\n",
      "    accuracy                           0.84       800\n",
      "   macro avg       0.86      0.73      0.76       800\n",
      "weighted avg       0.85      0.84      0.82       800\n",
      "\n",
      "Testing report\n",
      "              precision    recall  f1-score   support\n",
      "\n",
      "           0       0.81      0.93      0.87       145\n",
      "           1       0.71      0.44      0.54        55\n",
      "\n",
      "    accuracy                           0.80       200\n",
      "   macro avg       0.76      0.68      0.70       200\n",
      "weighted avg       0.78      0.80      0.78       200\n",
      "\n",
      "Test Score:  0.795\n"
     ]
    }
   ],
   "source": [
    "# %\n",
    "evaluate_model(svm,X_train,Y_train,X_test,y_test,fit=True)\n",
    "\n",
    "model_score_svm= svm.score(X_test, y_test)\n",
    "print('Test Score: ',model_score_svm)"
   ]
  },
  {
   "cell_type": "code",
   "execution_count": 13,
   "id": "19ccde95",
   "metadata": {},
   "outputs": [
    {
     "name": "stdout",
     "output_type": "stream",
     "text": [
      "Training report\n",
      "              precision    recall  f1-score   support\n",
      "\n",
      "           0       0.94      0.90      0.92       581\n",
      "           1       0.76      0.86      0.80       219\n",
      "\n",
      "    accuracy                           0.89       800\n",
      "   macro avg       0.85      0.88      0.86       800\n",
      "weighted avg       0.89      0.89      0.89       800\n",
      "\n",
      "Testing report\n",
      "              precision    recall  f1-score   support\n",
      "\n",
      "           0       0.87      0.79      0.83       145\n",
      "           1       0.55      0.69      0.61        55\n",
      "\n",
      "    accuracy                           0.76       200\n",
      "   macro avg       0.71      0.74      0.72       200\n",
      "weighted avg       0.78      0.76      0.77       200\n",
      "\n",
      "Test Score:  0.76\n"
     ]
    }
   ],
   "source": [
    "# %\n",
    "#applying SMOTE\n",
    "svm_smote=SVC()\n",
    "\n",
    "#fitting the scv smote model\n",
    "svm_smote.fit(x_train,y_train)\n",
    "\n",
    "#evaluating the model\n",
    "evaluate_model(svm_smote,X_train,Y_train,X_test,y_test,fit=True)\n",
    "\n",
    "model_score_svm_smote= svm_smote.score(X_test, y_test)\n",
    "print('Test Score: ',model_score_svm_smote)"
   ]
  },
  {
   "cell_type": "code",
   "execution_count": 14,
   "id": "a9fcfa92",
   "metadata": {},
   "outputs": [
    {
     "name": "stdout",
     "output_type": "stream",
     "text": [
      "Training report\n",
      "              precision    recall  f1-score   support\n",
      "\n",
      "           0       0.93      0.83      0.88       273\n",
      "           1       0.87      0.95      0.91       342\n",
      "\n",
      "    accuracy                           0.90       615\n",
      "   macro avg       0.90      0.89      0.89       615\n",
      "weighted avg       0.90      0.90      0.90       615\n",
      "\n",
      "Testing report\n",
      "              precision    recall  f1-score   support\n",
      "\n",
      "           0       0.92      0.79      0.85        70\n",
      "           1       0.84      0.94      0.89        84\n",
      "\n",
      "    accuracy                           0.87       154\n",
      "   macro avg       0.88      0.86      0.87       154\n",
      "weighted avg       0.88      0.87      0.87       154\n",
      "\n",
      "Test Score : 0.8701298701298701\n"
     ]
    }
   ],
   "source": [
    "#Support Vector Machine with smoteenn\n",
    "\n",
    "model_scv_smoteen=SVC()\n",
    "\n",
    "model_scv_smoteen.fit(xr_train,yr_train)\n",
    "model2_score_r = model_scv_smoteen.score(xr_test, yr_test)\n",
    "\n",
    "evaluate_model(model_scv_smoteen,xr_train,yr_train,xr_test,yr_test,fit=True)\n",
    "print('Test Score :',model2_score_r)\n"
   ]
  },
  {
   "cell_type": "markdown",
   "id": "0265bde6",
   "metadata": {},
   "source": [
    "- SMOTE ENN Performed better for linear models \n"
   ]
  },
  {
   "cell_type": "code",
   "execution_count": null,
   "id": "54b9fb12",
   "metadata": {},
   "outputs": [],
   "source": []
  },
  {
   "cell_type": "code",
   "execution_count": 15,
   "id": "71b8ff3c",
   "metadata": {},
   "outputs": [
    {
     "name": "stdout",
     "output_type": "stream",
     "text": [
      "Training report\n",
      "              precision    recall  f1-score   support\n",
      "\n",
      "           0       1.00      1.00      1.00       581\n",
      "           1       1.00      1.00      1.00       581\n",
      "\n",
      "    accuracy                           1.00      1162\n",
      "   macro avg       1.00      1.00      1.00      1162\n",
      "weighted avg       1.00      1.00      1.00      1162\n",
      "\n",
      "Testing report\n",
      "              precision    recall  f1-score   support\n",
      "\n",
      "           0       0.84      0.86      0.85       145\n",
      "           1       0.60      0.58      0.59        55\n",
      "\n",
      "    accuracy                           0.78       200\n",
      "   macro avg       0.72      0.72      0.72       200\n",
      "weighted avg       0.78      0.78      0.78       200\n",
      "\n",
      "Test Score:  0.78\n"
     ]
    }
   ],
   "source": [
    "# %%\n",
    "# Random Forest\n",
    "rf_clf = RandomForestClassifier(n_jobs=-1)\n",
    "rf_clf.fit(x_train,y_train)\n",
    "evaluate_model(rf_clf,x_train,y_train,X_test,y_test,fit=True)\n",
    "\n",
    "model_score_rand_clf = rf_clf.score(X_test, y_test)\n",
    "print('Test Score: ',model_score_rand_clf)"
   ]
  },
  {
   "cell_type": "code",
   "execution_count": 16,
   "id": "9103d228",
   "metadata": {},
   "outputs": [
    {
     "name": "stdout",
     "output_type": "stream",
     "text": [
      "Fitting 5 folds for each of 10 candidates, totalling 50 fits\n",
      "{'n_estimators': 90, 'min_samples_split': 9, 'min_samples_leaf': 1, 'max_features': 'log2', 'max_depth': 18, 'criterion': 'entropy'}\n"
     ]
    }
   ],
   "source": [
    "## Hyperparameter tunining \n",
    "# we are tuning three hyperparameters right now, we are passing the different values for both parameters\n",
    "grid_param = {\n",
    "    \"n_estimators\" : [90,100,115,130],\n",
    "    'criterion': ['gini', 'entropy'],\n",
    "    'max_depth' : range(2,20,1),\n",
    "    'min_samples_leaf' : range(1,10,1),\n",
    "    'min_samples_split': range(2,10,1),\n",
    "    'max_features' : ['auto','log2']\n",
    "}\n",
    "random_search = RandomizedSearchCV(estimator=rf_clf,param_distributions=grid_param,cv=5,n_jobs =-1,verbose = 3)\n",
    "random_search.fit(x_train,y_train)\n",
    "# %%\n",
    "# %%\n",
    "print(random_search.best_params_)"
   ]
  },
  {
   "cell_type": "code",
   "execution_count": 17,
   "id": "22d433e5",
   "metadata": {},
   "outputs": [
    {
     "name": "stdout",
     "output_type": "stream",
     "text": [
      "Training report\n",
      "              precision    recall  f1-score   support\n",
      "\n",
      "           0       0.99      1.00      1.00       581\n",
      "           1       1.00      0.99      1.00       581\n",
      "\n",
      "    accuracy                           1.00      1162\n",
      "   macro avg       1.00      1.00      1.00      1162\n",
      "weighted avg       1.00      1.00      1.00      1162\n",
      "\n",
      "Testing report\n",
      "              precision    recall  f1-score   support\n",
      "\n",
      "           0       0.83      0.87      0.85       145\n",
      "           1       0.61      0.55      0.58        55\n",
      "\n",
      "    accuracy                           0.78       200\n",
      "   macro avg       0.72      0.71      0.71       200\n",
      "weighted avg       0.77      0.78      0.78       200\n",
      "\n",
      "Test Score:  0.78\n"
     ]
    }
   ],
   "source": [
    "rand_clf_tune = RandomForestClassifier(criterion= 'entropy',\n",
    " max_depth = 14,\n",
    " max_features = 'log2',\n",
    " min_samples_leaf = 1,\n",
    " min_samples_split= 4,\n",
    " n_estimators = 115,random_state=6)\n",
    "\n",
    "rand_clf_tune.fit(x_train,y_train)\n",
    "evaluate_model(rand_clf_tune,x_train,y_train,X_test,y_test,fit=True)\n",
    "\n",
    "model_score_rand_clf_tune = rand_clf_tune.score(X_test, y_test)\n",
    "print('Test Score: ',model_score_rand_clf_tune)\n"
   ]
  },
  {
   "cell_type": "code",
   "execution_count": 18,
   "id": "c57b0773",
   "metadata": {},
   "outputs": [],
   "source": [
    "#%\n",
    "# Random Forest with smoteenn\n",
    "\n",
    "model_rf_smoteen=RandomForestClassifier(criterion= 'entropy',\n",
    " max_depth = 14,\n",
    " max_features = 'log2',\n",
    " min_samples_leaf = 1,\n",
    " min_samples_split= 4,\n",
    " n_estimators = 115,random_state=6)"
   ]
  },
  {
   "cell_type": "code",
   "execution_count": 19,
   "id": "6a7470a4",
   "metadata": {},
   "outputs": [
    {
     "name": "stdout",
     "output_type": "stream",
     "text": [
      "Training report\n",
      "              precision    recall  f1-score   support\n",
      "\n",
      "           0       0.93      0.83      0.88       273\n",
      "           1       0.87      0.95      0.91       342\n",
      "\n",
      "    accuracy                           0.90       615\n",
      "   macro avg       0.90      0.89      0.89       615\n",
      "weighted avg       0.90      0.90      0.90       615\n",
      "\n",
      "Testing report\n",
      "              precision    recall  f1-score   support\n",
      "\n",
      "           0       0.92      0.79      0.85        70\n",
      "           1       0.84      0.94      0.89        84\n",
      "\n",
      "    accuracy                           0.87       154\n",
      "   macro avg       0.88      0.86      0.87       154\n",
      "weighted avg       0.88      0.87      0.87       154\n",
      "\n",
      "Test Score : 0.922077922077922\n"
     ]
    }
   ],
   "source": [
    "model_rf_smoteen.fit(xr_train,yr_train)\n",
    "yr_predict4 = model_rf_smoteen.predict(xr_test)\n",
    "model3_score_r = model_rf_smoteen.score(xr_test, yr_test)\n",
    "\n",
    "evaluate_model(model_scv_smoteen,xr_train,yr_train,xr_test,yr_test,fit=True)\n",
    "print('Test Score :',model3_score_r)\n"
   ]
  },
  {
   "cell_type": "code",
   "execution_count": 20,
   "id": "f52d2797",
   "metadata": {},
   "outputs": [
    {
     "name": "stdout",
     "output_type": "stream",
     "text": [
      "Training report\n",
      "              precision    recall  f1-score   support\n",
      "\n",
      "           0       0.80      0.52      0.63       581\n",
      "           1       0.64      0.87      0.74       581\n",
      "\n",
      "    accuracy                           0.70      1162\n",
      "   macro avg       0.72      0.70      0.69      1162\n",
      "weighted avg       0.72      0.70      0.69      1162\n",
      "\n",
      "Testing report\n",
      "              precision    recall  f1-score   support\n",
      "\n",
      "           0       0.94      0.54      0.69       145\n",
      "           1       0.43      0.91      0.58        55\n",
      "\n",
      "    accuracy                           0.65       200\n",
      "   macro avg       0.69      0.73      0.64       200\n",
      "weighted avg       0.80      0.65      0.66       200\n",
      "\n",
      "0.645\n"
     ]
    }
   ],
   "source": [
    "# %\n",
    "# Gossian Naive Bayes \n",
    "nb_clf=GaussianNB()\n",
    "nb_clf.fit(x_train,y_train)\n",
    "evaluate_model(nb_clf,x_train,y_train,X_test,y_test,fit=True)\n",
    "\n",
    "model_score_nb_clf = nb_clf.score(X_test, y_test)\n",
    "print(model_score_nb_clf)\n"
   ]
  },
  {
   "cell_type": "code",
   "execution_count": 21,
   "id": "71527013",
   "metadata": {},
   "outputs": [
    {
     "name": "stdout",
     "output_type": "stream",
     "text": [
      "Training report\n",
      "              precision    recall  f1-score   support\n",
      "\n",
      "           0       0.93      0.83      0.88       273\n",
      "           1       0.87      0.95      0.91       342\n",
      "\n",
      "    accuracy                           0.90       615\n",
      "   macro avg       0.90      0.89      0.89       615\n",
      "weighted avg       0.90      0.90      0.90       615\n",
      "\n",
      "Testing report\n",
      "              precision    recall  f1-score   support\n",
      "\n",
      "           0       0.92      0.79      0.85        70\n",
      "           1       0.84      0.94      0.89        84\n",
      "\n",
      "    accuracy                           0.87       154\n",
      "   macro avg       0.88      0.86      0.87       154\n",
      "weighted avg       0.88      0.87      0.87       154\n",
      "\n",
      "Test Score : 0.8766233766233766\n"
     ]
    }
   ],
   "source": [
    "# Gossian Naive Bayes with smoteenn\n",
    "\n",
    "model_nb_smoteen=GaussianNB()\n",
    "\n",
    "model_nb_smoteen.fit(xr_train,yr_train)\n",
    "yr_predict3 = model_nb_smoteen.predict(xr_test)\n",
    "model4_score_r = model_nb_smoteen.score(xr_test, yr_test)\n",
    "\n",
    "evaluate_model(model_scv_smoteen,xr_train,yr_train,xr_test,yr_test,fit=True)\n",
    "print('Test Score :',model4_score_r)\n"
   ]
  },
  {
   "cell_type": "code",
   "execution_count": null,
   "id": "e8da347f",
   "metadata": {},
   "outputs": [],
   "source": []
  },
  {
   "cell_type": "markdown",
   "id": "7b85b650",
   "metadata": {},
   "source": [
    "### Pickling the model\n"
   ]
  },
  {
   "cell_type": "code",
   "execution_count": 23,
   "id": "de4ec119",
   "metadata": {},
   "outputs": [],
   "source": [
    "import pickle\n",
    "pickle_out=open(\"model_rf_smoteen.pkl\",\"wb\")\n",
    "pickle.dump(model_rf_smoteen,pickle_out)\n",
    "pickle_out.close()"
   ]
  },
  {
   "cell_type": "code",
   "execution_count": null,
   "id": "62841621",
   "metadata": {},
   "outputs": [],
   "source": []
  },
  {
   "cell_type": "code",
   "execution_count": null,
   "id": "7d9717c8",
   "metadata": {},
   "outputs": [],
   "source": []
  },
  {
   "cell_type": "code",
   "execution_count": null,
   "id": "e0279ebb",
   "metadata": {},
   "outputs": [],
   "source": []
  },
  {
   "cell_type": "code",
   "execution_count": null,
   "id": "d65749f2",
   "metadata": {},
   "outputs": [],
   "source": []
  },
  {
   "cell_type": "code",
   "execution_count": null,
   "id": "422dcf81",
   "metadata": {},
   "outputs": [],
   "source": []
  },
  {
   "cell_type": "code",
   "execution_count": null,
   "id": "06e6da88",
   "metadata": {},
   "outputs": [],
   "source": []
  }
 ],
 "metadata": {
  "kernelspec": {
   "display_name": "Python 3 (ipykernel)",
   "language": "python",
   "name": "python3"
  },
  "language_info": {
   "codemirror_mode": {
    "name": "ipython",
    "version": 3
   },
   "file_extension": ".py",
   "mimetype": "text/x-python",
   "name": "python",
   "nbconvert_exporter": "python",
   "pygments_lexer": "ipython3",
   "version": "3.9.12"
  }
 },
 "nbformat": 4,
 "nbformat_minor": 5
}
